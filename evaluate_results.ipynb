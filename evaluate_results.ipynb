{
 "cells": [
  {
   "cell_type": "code",
   "execution_count": null,
   "metadata": {},
   "outputs": [],
   "source": [
    "import json\n",
    "import pandas as pd\n",
    "from pathlib import Path"
   ]
  },
  {
   "cell_type": "markdown",
   "metadata": {},
   "source": [
    "# Helper-Functions \n",
    "Those functions generate the paths to the result directories and preprocess the data:"
   ]
  },
  {
   "cell_type": "code",
   "execution_count": null,
   "metadata": {},
   "outputs": [],
   "source": [
    "PARAMS_CELEBA = {\n",
    "    \"lr\": 0.0005,\n",
    "    \"rec_alpha\": 0.0005,\n",
    "    \"rec_alpha_pert\": 0.0005,\n",
    "    \"rec_lr\": 0.025,\n",
    "    \"rec_max_iter\": 10000,\n",
    "    \"n_epochs\": {\"dcgan\": 50, \"wgangp\": 200, \"lsgan\": 100, \"ebgan\": 100},\n",
    "}\n",
    "PARAMS_LSUN = {\n",
    "    \"lr\": 0.0005,\n",
    "    \"rec_alpha\": 0.0005,\n",
    "    \"rec_alpha_pert\": 0.0005,\n",
    "    \"rec_lr\": 0.00075,\n",
    "    \"rec_max_iter\": 10000,\n",
    "    \"n_epochs\": {\"dcgan\": 10, \"wgangp\": 10, \"lsgan\": 10, \"ebgan\": 5},\n",
    "}\n",
    "PARAMS_COCO = {\n",
    "    \"lr\": 0.0005,\n",
    "    \"rec_alpha\": 1e-05,\n",
    "    \"rec_alpha_pert\": 1e-05,\n",
    "    \"rec_lr\": 0.01,\n",
    "    \"rec_max_iter\": 1000,\n",
    "    \"n_epochs\": {\"stablediffusion\": 100}\n",
    "}\n",
    "PARAMS_FFHQ = {\n",
    "    \"lr\": 0.0005,\n",
    "    \"rec_alpha\": 5e-04,\n",
    "    \"rec_alpha_pert\": 1e-05,\n",
    "    \"rec_lr\": 0.025,\n",
    "    \"rec_max_iter\": 10000,\n",
    "    \"n_epochs\": {\"stylegan2\": 100}\n",
    "}\n",
    "PARAMS_BCDR = {\n",
    "    \"lr\": 0.0005,\n",
    "    \"rec_alpha\": 0.001,\n",
    "    \"rec_alpha_pert\": 0.001,\n",
    "    \"rec_lr\": 0.05,\n",
    "    \"rec_max_iter\": 10000,\n",
    "    \"n_epochs\": {\"medigan_dcgan\": 50}\n",
    "}\n",
    "PARAMS_WHITEWINE = {\n",
    "    \"lr\": 0.001,\n",
    "    \"rec_alpha\": 0.0001,\n",
    "    \"rec_alpha_pert\": 0.0001,\n",
    "    \"rec_lr\": 0.001,\n",
    "    \"rec_max_iter\": 10000,\n",
    "    \"n_epochs\": {\"klwgan\": 100}\n",
    "}\n",
    "PARAMS_REDWINE = {\n",
    "    \"lr\": 0.001,\n",
    "    \"rec_alpha\": 0.0005,\n",
    "    \"rec_alpha_pert\": 0.0001,\n",
    "    \"rec_lr\": 0.001,\n",
    "    \"rec_max_iter\": 10000,\n",
    "    \"n_epochs\": {\"klwgan\": 100}\n",
    "}\n",
    "\n",
    "PARAMS = {\"celeba\": PARAMS_CELEBA, \n",
    "          \"lsun\": PARAMS_LSUN, \n",
    "          \"coco\": PARAMS_COCO, \n",
    "          \"ffhq\": PARAMS_FFHQ,\n",
    "          \"bcdr\": PARAMS_BCDR,\n",
    "          \"whitewine\": PARAMS_WHITEWINE,\n",
    "          \"redwine\": PARAMS_REDWINE}\n",
    "\n",
    "ATTRS = {\"celeba\": [\"fingerprint\", \"l2_inversion\", \"inception_inversion\", \"raw\", \"dct\", \"act\"],\n",
    "         \"lsun\": [\"fingerprint\", \"l2_inversion\", \"inception_inversion\", \"raw\", \"dct\", \"act\"],\n",
    "         \"coco\": [\"fingerprint\", \"l2_inversion\", \"inception_inversion\", \"raw\", \"dct\", \"act\"],\n",
    "         \"ffhq\": [\"fingerprint\", \"raw\", \"dct\"],\n",
    "         \"bcdr\": [\"fingerprint\", \"raw\", \"dct\", \"act\"],\n",
    "         \"whitewine\": [\"l2_inversion\", \"raw\", \"act\"],\n",
    "         \"redwine\": [\"l2_inversion\", \"raw\", \"act\"],\n",
    "        } \n",
    "MODELS = {\"celeba\": [\"dcgan\", \"wgangp\", \"lsgan\", \"ebgan\"],\n",
    "          \"lsun\": [\"dcgan\", \"wgangp\", \"lsgan\", \"ebgan\"],\n",
    "          \"coco\": [\"stablediffusion\"],\n",
    "          \"ffhq\": [\"stylegan2\"],\n",
    "          \"bcdr\": [\"medigan_dcgan\"],\n",
    "          \"whitewine\": [\"klwgan\"],\n",
    "          \"redwine\": [\"klwgan\"]}\n",
    "\n",
    "OUTDIR = {\"celeba\": Path(\"output\"),\n",
    "          \"lsun\": Path(\"output\"),\n",
    "          \"coco\": Path(\"output/\"),\n",
    "          \"ffhq\": Path(\"output/\"),\n",
    "          \"bcdr\": Path(\"output/\"),\n",
    "          \"whitewine\": Path(\"output\"),\n",
    "          \"redwine\": Path(\"output\")\n",
    "         }\n",
    "OUTDIR_BASELINES = Path(\"output/baselines\") "
   ]
  },
  {
   "cell_type": "code",
   "execution_count": null,
   "metadata": {
    "pycharm": {
     "name": "#%%\n"
    }
   },
   "outputs": [],
   "source": [
    "def build_path_results(data, model, attr, perturb=False, sd_checkpoint=\"stabilityai_stable_diffusion_2_1_base\", modelnr_wine=0):\n",
    "    attrs = ATTRS[data]\n",
    "    assert attr in attrs, f\"attr needs to be in {attrs}.\"\n",
    "\n",
    "    n_epochs = PARAMS[data][\"n_epochs\"][model]\n",
    "    lr = PARAMS[data][\"lr\"]\n",
    "    rec_lr = PARAMS[data][\"rec_lr\"]\n",
    "    rec_alpha = PARAMS[data][\"rec_alpha\"]\n",
    "    rec_max_iter = PARAMS[data][\"rec_max_iter\"]\n",
    "    rec_alpha = PARAMS[data][\"rec_alpha\"]\n",
    "    if attr in [\"act\", \"raw\", \"dct\"]:\n",
    "        if perturb:\n",
    "            rec_alpha = PARAMS[data][\"rec_alpha_pert\"]\n",
    "        if data == \"coco\":\n",
    "            path = (\n",
    "                OUTDIR[data]\n",
    "                / f\"model={model}-checkpoint={sd_checkpoint}-feat={attr}-n_epochs={n_epochs}-lr={lr}-lr_milestones=[25, 50, 100]-rec_alpha={rec_alpha}-rec_lr={rec_lr}-rec_momentum=0.0-rec_max_iter={rec_max_iter}\"\n",
    "                / \"results\"\n",
    "            )\n",
    "        elif data == \"ffhq\":\n",
    "            path = (\n",
    "                OUTDIR[data]\n",
    "                / f\"model={model}-checkpoint=trained_models_stylegan2_stylegan2_ffhq_256x256_pkl-feat={attr}-n_epochs={n_epochs}-lr={lr}-lr_milestones=[25, 50, 100]-rec_alpha={rec_alpha}-rec_lr={rec_lr}-rec_momentum=0.0-rec_max_iter={rec_max_iter}\"\n",
    "                / \"results\"\n",
    "            )\n",
    "        elif data == \"bcdr\":\n",
    "            path = (\n",
    "                OUTDIR[data]\n",
    "                / f\"model={model}-checkpoint=trained_models_dcgan_bcdr_model_state_dict_pt-feat={attr}-n_epochs={n_epochs}-lr={lr}-lr_milestones=[25, 50, 100]-rec_alpha={rec_alpha}-rec_lr={rec_lr}-rec_momentum=0.0-rec_max_iter={rec_max_iter}\"\n",
    "                / \"results\"\n",
    "            )\n",
    "        elif data in [\"whitewine\", \"redwine\"]:\n",
    "            path = (\n",
    "                OUTDIR[data]\n",
    "                / f\"model={model}-checkpoint=trained_models_klwgan_hinge_{data}_{modelnr_wine}_pkl-feat={attr}-n_epochs={n_epochs}-lr={lr}-lr_milestones=[25, 50, 100]-rec_alpha={rec_alpha}-rec_lr={rec_lr}-rec_momentum=0.0-rec_max_iter={rec_max_iter}\"\n",
    "                / \"results\"\n",
    "            )\n",
    "        else:\n",
    "            if attr in [\"raw\", \"dct\"]:\n",
    "                path = (\n",
    "                    OUTDIR[data]\n",
    "                    / f\"model={model}-checkpoint=trained_models_{model}_{data}_nz_100_niter_{n_epochs}_model_1_checkpoints_netG_epoch_{n_epochs - 1}_pth-feat={attr}-n_epochs=50-lr={lr}-lr_milestones=[25, 50, 100]-rec_alpha={rec_alpha}-rec_lr=0.025-rec_momentum=0.0-rec_max_iter=10000\"\n",
    "                    / \"results\"\n",
    "                )\n",
    "            \n",
    "            else:\n",
    "                path = (\n",
    "                    OUTDIR[data]\n",
    "                    / f\"model={model}-checkpoint=trained_models_{model}_{data}_nz_100_niter_{n_epochs}_model_1_checkpoints_netG_epoch_{n_epochs - 1}_pth-feat={attr}-n_epochs=50-lr={lr}-lr_milestones=[25, 50, 100]-rec_alpha={rec_alpha}-rec_lr={rec_lr}-rec_momentum=0.0-rec_max_iter={rec_max_iter}\"\n",
    "                    / \"results\"\n",
    "                )\n",
    "    elif attr == \"fingerprint\":\n",
    "        if data == \"coco\":\n",
    "            path = (\n",
    "                OUTDIR[data] / \"baselines\" \n",
    "                / f\"model={model}-checkpoint={sd_checkpoint}-attr=fingerprint\" / \"results\"\n",
    "            )\n",
    "        elif data == \"bcdr\":\n",
    "            bcdr_checkpoint = \"trained_models_dcgan_bcdr_model_state_dict_pt\"\n",
    "            path = (\n",
    "                OUTDIR[data] / \"baselines\" / f\"model={model}-checkpoint={bcdr_checkpoint}-attr={attr}\" / \"results\"\n",
    "            )\n",
    "        elif data == \"ffhq\":\n",
    "            ffhq_checkpoint = \"pretrained_models_stylegan2_stylegan2_ffhq_256x256_pkl\"\n",
    "            path = (\n",
    "                OUTDIR[data] / \"baselines\" / f\"model={model}-checkpoint={ffhq_checkpoint}-attr={attr}\" / \"results\"\n",
    "            )\n",
    "        else:\n",
    "            path = (\n",
    "                OUTDIR_BASELINES \n",
    "                / f\"model={model}-checkpoint=trained_models_{model}_{data}_nz_100_niter_{n_epochs}_model_1_checkpoints_netG_epoch_{n_epochs - 1}_pth-attr=fingerprint\"\n",
    "                / \"results\"\n",
    "            )\n",
    "    elif attr in [\"l2_inversion\", \"inception_inversion\"]:\n",
    "        if data == \"coco\":\n",
    "            path = (\n",
    "                OUTDIR[data] / \"baselines\" / f\"model={model}-checkpoint={sd_checkpoint}-attr={attr}\" / \"results\"\n",
    "            )\n",
    "        elif data == \"bcdr\":\n",
    "            bcdr_checkpoint = \"trained_models_dcgan_bcdr_model_state_dict_pt\"\n",
    "            path = (\n",
    "                OUTDIR[data] / \"baselines\" / f\"model={model}-checkpoint={bcdr_checkpoint}-attr={attr}\" / \"results\"\n",
    "            )\n",
    "        elif data in [\"whitewine\", \"redwine\"]:\n",
    "            wine_checkpoint = f\"trained_models_klwgan_hinge_{data}_{modelnr_wine}_pkl\"\n",
    "            path = (\n",
    "                OUTDIR[data] / \"baselines\" / f\"model={model}-checkpoint={wine_checkpoint}-attr={attr}-lr_inv=0.1-num_steps_inv=1000-num_inits_inv=10\" / \"results\"\n",
    "            )\n",
    "        else:\n",
    "            path = (\n",
    "                OUTDIR_BASELINES\n",
    "                / f\"model={model}-checkpoint=trained_models_{model}_{data}_nz_100_niter_{n_epochs}_model_1_checkpoints_netG_epoch_{n_epochs - 1}_pth-attr={attr}-lr_inv=0.1-num_steps_inv=1000-num_inits_inv=10\"\n",
    "                / \"results\"\n",
    "            )\n",
    "    else:\n",
    "        raise NotImplementedError\n",
    "    return path"
   ]
  },
  {
   "cell_type": "code",
   "execution_count": null,
   "metadata": {
    "pycharm": {
     "name": "#%%\n"
    }
   },
   "outputs": [],
   "source": [
    "def collect_results(data, perturb=False):\n",
    "    results = None\n",
    "    models = MODELS[data]\n",
    "    attrs = ATTRS[data]\n",
    "    for model in models:\n",
    "        for attr in attrs:\n",
    "            if data in [\"whitewine\", \"redwine\"]:\n",
    "                for j in range(5):\n",
    "                    path_results = build_path_results(data, model, attr, perturb, modelnr_wine=j)\n",
    "        \n",
    "                    try:\n",
    "                        path = path_results / \"results.json\"\n",
    "                        with open(path, encoding=\"utf-8-sig\", mode=\"r\") as f:\n",
    "                            lines = f.readlines()\n",
    "                        for j in range(len(lines)):\n",
    "                            line = lines[j]\n",
    "                            # delete last ',/n'\n",
    "                            line = line.rstrip(\", \\n\")\n",
    "                            line = json.loads(line)\n",
    "                            lines[j] = line\n",
    "        \n",
    "                        result = pd.read_json(json.dumps(lines))\n",
    "                        result[\"model\"] = result[\"model\"] + \"_\" + attr\n",
    "                        if results is None:\n",
    "                            results = result\n",
    "                        else:\n",
    "                            results = pd.concat([results, result], ignore_index=True)\n",
    "                    except:\n",
    "                        print(f\"{path_results} does not contain results.json.\")\n",
    "            else:\n",
    "                path_results = build_path_results(data, model, attr, perturb)\n",
    "\n",
    "                try:\n",
    "                    path = path_results / \"results.json\"\n",
    "                    with open(path, encoding=\"utf-8-sig\", mode=\"r\") as f:\n",
    "                        lines = f.readlines()\n",
    "                    for j in range(len(lines)):\n",
    "                        line = lines[j]\n",
    "                        # delete last ',/n'\n",
    "                        line = line.rstrip(\", \\n\")\n",
    "                        line = json.loads(line)\n",
    "                        lines[j] = line\n",
    "    \n",
    "                    result = pd.read_json(json.dumps(lines))\n",
    "                    result[\"model\"] = result[\"model\"] + \"_\" + attr\n",
    "                    if results is None:\n",
    "                        results = result\n",
    "                    else:\n",
    "                        results = pd.concat([results, result], ignore_index=True)\n",
    "                except:\n",
    "                    print(f\"{path_results} does not contain results.json.\")\n",
    "    results = results.drop(columns=[\"checkpoint\"])\n",
    "    return results"
   ]
  },
  {
   "cell_type": "code",
   "execution_count": null,
   "metadata": {
    "pycharm": {
     "name": "#%%\n"
    }
   },
   "outputs": [],
   "source": [
    "def prepare_results(data, different_arch=True, perturb_type=None, perturb_params=None):\n",
    "    if perturb_type is None:\n",
    "        perturb = False\n",
    "    else:\n",
    "        perturb = True\n",
    "    df = collect_results(data, perturb)\n",
    "    if perturb:\n",
    "        assert perturb_params is not None, \"perturb_params were not set.\"\n",
    "        df = df[(df[\"perturbation\"] == perturb_type) & (df[\"perturbation-param\"].isin(perturb_params))]\n",
    "        # select only immunized results\n",
    "        df = df[df[\"model\"].str.contains(\"_immun_\")]\n",
    "\n",
    "        if different_arch:\n",
    "            # extract the method\n",
    "\n",
    "            df[\"descr\"] = df[\"model\"]\n",
    "            df[\"model\"] = df[\"descr\"].str.split(\"_\").str[-1]\n",
    "\n",
    "            df = df.groupby(by=[\"model\", \"perturbation-param\"]).mean()\n",
    "            return df.transpose()\n",
    "\n",
    "        else:\n",
    "            raise NotImplementedError\n",
    "    else:\n",
    "        # remove all perturbed results\n",
    "        df = df[df[\"perturbation\"].isnull()]\n",
    "        df = df.drop(columns=[\"perturbation\", \"perturbation-param\"])\n",
    "        \n",
    "        if different_arch:\n",
    "            # keep just rows if my gan and other gan ends with j for j in {1,..,5} or other is \"real\"\n",
    "            df = df[(df.other.str[-1]==df.my.str[-1]) | df.other.str.endswith(\"real\")]\n",
    "        else:\n",
    "            # keep just rows if other ends with a different number than my and other is not real\n",
    "            df = df[(df.other.str[-1] != df.my.str[-1]) & -(df.other.str.endswith(\"real\")) ]\n",
    "        df = df.drop(columns=[\"my\"])\n",
    "        df = df.groupby(by=\"model\").mean()\n",
    "    return df.transpose()"
   ]
  },
  {
   "cell_type": "markdown",
   "metadata": {},
   "source": [
    "# Table 2: SMA with different architectures"
   ]
  },
  {
   "cell_type": "code",
   "execution_count": null,
   "metadata": {},
   "outputs": [],
   "source": [
    "def avg_results(data, fnr=0.005, different_arch=True):\n",
    "    df = prepare_results(data, different_arch)\n",
    "    models = MODELS[data]\n",
    "    attrs = ATTRS[data]\n",
    "    results_df = pd.DataFrame(columns=models, index=attrs)\n",
    "    for attr in attrs:\n",
    "        for model in models:\n",
    "            try:\n",
    "                results_df[model][attr] = df[f\"{model}_{attr}\"][f\"fnr={fnr}\"]\n",
    "            except:\n",
    "                print(f\"No result found for model={model} and attr method {attr}.\")\n",
    "                results_df[model][attr] = 0\n",
    "\n",
    "    results_df = 100 * results_df\n",
    "    results_df = results_df.astype(float).round(2)\n",
    "    return results_df"
   ]
  },
  {
   "cell_type": "code",
   "execution_count": null,
   "metadata": {},
   "outputs": [],
   "source": [
    "df_celeba = avg_results(\"celeba\")\n",
    "df_lsun = avg_results(\"lsun\")\n",
    "df_celeba\n",
    "pd.concat([df_celeba, df_lsun], axis=1)"
   ]
  },
  {
   "cell_type": "markdown",
   "metadata": {},
   "source": [
    "# Table 2: SMA with same architectures:"
   ]
  },
  {
   "cell_type": "code",
   "execution_count": null,
   "metadata": {},
   "outputs": [],
   "source": [
    "df_celeba_same = avg_results(\"celeba\", different_arch=False)\n",
    "df_lsun_same = avg_results(\"lsun\", different_arch=False)\n",
    "pd.concat([df_celeba_same, df_lsun_same], axis=1)"
   ]
  },
  {
   "cell_type": "markdown",
   "metadata": {},
   "source": [
    "# Table 3: SMA with Perturbations CelebA/LSUN "
   ]
  },
  {
   "cell_type": "code",
   "execution_count": null,
   "metadata": {},
   "outputs": [],
   "source": [
    "def avg_results_perturb(data, perturb_type, perturb_params, fnr=0.005):\n",
    "    df = prepare_results(data, True, perturb_type, perturb_params)\n",
    "    df = df.transpose()\n",
    "    \n",
    "    attrs = ATTRS[data]\n",
    "    results_df = pd.DataFrame(columns=perturb_params, index=attrs)\n",
    "\n",
    "    for perturb_param in perturb_params:\n",
    "        for attr in attrs:\n",
    "            try:\n",
    "                results_df[perturb_param][attr] = df[f\"fnr={fnr}\"][attr, perturb_param]\n",
    "            except:\n",
    "                print(f\"No result found for method={attr} and perturbation {perturb_type}: {perturb_params}.\")\n",
    "                results_df[perturb_param][attr] = 0\n",
    "\n",
    "    results_df = 100 * results_df\n",
    "    results_df = results_df.astype(float).round(2)\n",
    "    return results_df"
   ]
  },
  {
   "cell_type": "code",
   "execution_count": null,
   "metadata": {},
   "outputs": [],
   "source": [
    "fnr = 0.005\n",
    "blur_celeba = avg_results_perturb(\"celeba\", \"blur\", [1, 3], fnr=fnr)\n",
    "crop_celeba = avg_results_perturb(\"celeba\", \"crop\", [60, 55], fnr=fnr)\n",
    "noise_celeba = avg_results_perturb(\"celeba\", \"noise\", [0.05, 0.1], fnr=fnr)\n",
    "jpeg_celeba = avg_results_perturb(\"celeba\", \"jpeg\", [90, 80], fnr=fnr)\n",
    "\n",
    "blur_lsun = avg_results_perturb(\"lsun\", \"blur\", [1, 3], fnr=fnr)\n",
    "crop_lsun = avg_results_perturb(\"lsun\", \"crop\", [60, 55], fnr=fnr)\n",
    "noise_lsun = avg_results_perturb(\"lsun\", \"noise\", [0.05, 0.1], fnr=fnr)\n",
    "jpeg_lsun = avg_results_perturb(\"lsun\", \"jpeg\", [90, 80], fnr=fnr)\n",
    "\n",
    "pd.concat([blur_celeba, crop_celeba, noise_celeba, jpeg_celeba,\n",
    "           blur_lsun, crop_lsun, noise_lsun, jpeg_lsun], axis=1)"
   ]
  },
  {
   "cell_type": "code",
   "execution_count": null,
   "metadata": {},
   "outputs": [],
   "source": [
    "fnr = 0.05\n",
    "blur_celeba = avg_results_perturb(\"celeba\", \"blur\", [1, 3], fnr=fnr)\n",
    "crop_celeba = avg_results_perturb(\"celeba\", \"crop\", [60, 55], fnr=fnr)\n",
    "noise_celeba = avg_results_perturb(\"celeba\", \"noise\", [0.05, 0.1], fnr=fnr)\n",
    "jpeg_celeba = avg_results_perturb(\"celeba\", \"jpeg\", [90, 80], fnr=fnr)\n",
    "\n",
    "blur_lsun = avg_results_perturb(\"lsun\", \"blur\", [1, 3], fnr=fnr)\n",
    "crop_lsun = avg_results_perturb(\"lsun\", \"crop\", [60, 55], fnr=fnr)\n",
    "noise_lsun = avg_results_perturb(\"lsun\", \"noise\", [0.05, 0.1], fnr=fnr)\n",
    "jpeg_lsun = avg_results_perturb(\"lsun\", \"jpeg\", [90, 80], fnr=fnr)\n",
    "\n",
    "pd.concat([blur_celeba, crop_celeba, noise_celeba, jpeg_celeba,\n",
    "           blur_lsun, crop_lsun, noise_lsun, jpeg_lsun], axis=1)"
   ]
  },
  {
   "cell_type": "markdown",
   "metadata": {},
   "source": [
    "# Table 4: Stable Diffusion / StyleGAN / MediGAN:"
   ]
  },
  {
   "cell_type": "code",
   "execution_count": null,
   "metadata": {},
   "outputs": [],
   "source": [
    "def results_detailed(data, metric=\"mean\", different_arch=True, perturb_type=None, perturb_params=None):\n",
    "    if perturb_type is None:\n",
    "        perturb = False\n",
    "    else:\n",
    "        perturb = True\n",
    "    df = collect_results(data, perturb)\n",
    "    if perturb:\n",
    "        raise NotImplementedError\n",
    "    else:\n",
    "        # remove all perturbed results\n",
    "        df = df[df[\"perturbation\"].isnull()]\n",
    "        df = df.drop(columns=[\"perturbation\", \"perturbation-param\"])\n",
    "\n",
    "        if data in [\"lsun\", \"celeba\"]:\n",
    "            if different_arch:\n",
    "                # keep just rows if my gan and other gan ends with j for j in {1,..,5} or other is \"real\"\n",
    "                df = df[(df.other.str[-1]==df.my.str[-1]) | df.other.str.endswith(\"real\")]\n",
    "            else:\n",
    "                # keep just rows if other ends with a different number than my and other is not real\n",
    "                df = df[(df.other.str[-1] != df.my.str[-1]) & -(df.other.str.endswith(\"real\")) ]\n",
    "        df = df.drop(columns=[\"my\"])\n",
    "        columns_to_group = [\"model\", \"other\"]\n",
    "        if data == \"coco\":\n",
    "            columns_to_group.append(\"channels\")\n",
    "        if metric==\"mean\":\n",
    "            df = df.groupby(by=columns_to_group).mean()\n",
    "        elif metric==\"std\":\n",
    "            df = df.groupby(by=columns_to_group).std()\n",
    "        return df "
   ]
  },
  {
   "cell_type": "code",
   "execution_count": null,
   "metadata": {},
   "outputs": [],
   "source": [
    "# Stable Diffusion: \n",
    "results_detailed(\"coco\")"
   ]
  },
  {
   "cell_type": "code",
   "execution_count": null,
   "metadata": {},
   "outputs": [],
   "source": [
    "# StyleGAN:\n",
    "results_detailed(\"ffhq\")"
   ]
  },
  {
   "cell_type": "code",
   "execution_count": null,
   "metadata": {},
   "outputs": [],
   "source": [
    "# mediGAN:\n",
    "results_detailed(\"bcdr\")"
   ]
  },
  {
   "cell_type": "markdown",
   "metadata": {},
   "source": [
    "# Table 5: Tabular Experiments:"
   ]
  },
  {
   "cell_type": "code",
   "execution_count": null,
   "metadata": {},
   "outputs": [],
   "source": [
    "results_detailed(\"redwine\")"
   ]
  },
  {
   "cell_type": "markdown",
   "metadata": {},
   "source": [
    "# Table 7 Confusion Matrix SMA:"
   ]
  },
  {
   "cell_type": "code",
   "execution_count": null,
   "metadata": {
    "scrolled": true
   },
   "outputs": [],
   "source": [
    "def confusion_matrix(data, attr, different_arch=True, fnr=0.005, perturb_type=None, perturb_param=None):\n",
    "    df = collect_results(data)\n",
    "    df_confusion = pd.DataFrame(columns=[\"real\"] + MODELS[data], index=MODELS[data])\n",
    "    if perturb_type is None:\n",
    "        df = df[df[\"perturbation\"].isnull()]\n",
    "        df = df.drop(columns=[\"perturbation\", \"perturbation-param\"])\n",
    "        if different_arch:\n",
    "            df = df[df[\"model\"].str.endswith(attr)]\n",
    "            for model in MODELS[data]:\n",
    "                df_confusion[\"real\"][model] = df[(df[\"my\"] == model + \"_1\") & (df[\"other\"] == \"real\")][\n",
    "                    f\"fnr={fnr}\"\n",
    "                ].mean()\n",
    "                for model_other in MODELS[data]:\n",
    "                    if model != model_other:\n",
    "                        df_confusion[model_other][model] = df[\n",
    "                            (df[\"my\"] == model + \"_1\") & (df[\"other\"] == model_other + \"_1\")\n",
    "                        ][f\"fnr={fnr}\"].mean()\n",
    "            return df_confusion * 100 \n",
    "        else:\n",
    "            raise NotImplementedError()\n",
    "    else:\n",
    "        raise NotImplementedError()\n"
   ]
  },
  {
   "cell_type": "code",
   "execution_count": null,
   "metadata": {},
   "outputs": [],
   "source": [
    "for data in [\"celeba\", \"lsun\"]:\n",
    "    for attr in ATTRS[data]:\n",
    "        print(f\"Data={data} - Attribution = {attr}\")\n",
    "        print(confusion_matrix(data, attr))"
   ]
  },
  {
   "cell_type": "markdown",
   "metadata": {},
   "source": [
    "# Table 9 Stds small generative models: "
   ]
  },
  {
   "cell_type": "code",
   "execution_count": null,
   "metadata": {},
   "outputs": [],
   "source": [
    "def prepare_results_std(data, different_arch=True, perturb_type=None, perturb_params=None):\n",
    "    if perturb_type is None:\n",
    "        perturb = False\n",
    "    else:\n",
    "        perturb = True\n",
    "    df = collect_results(data, perturb)\n",
    "    if perturb:\n",
    "        assert perturb_params is not None, \"perturb_params were not set.\"\n",
    "        df = df[(df[\"perturbation\"] == perturb_type) & (df[\"perturbation-param\"].isin(perturb_params))]\n",
    "        # select only immunized results\n",
    "        df = df[df[\"model\"].str.contains(\"_immun_\")]\n",
    "\n",
    "        if different_arch:\n",
    "            # extract the method\n",
    "\n",
    "            df[\"descr\"] = df[\"model\"]\n",
    "            df[\"model\"] = df[\"descr\"].str.split(\"_\").str[-1]\n",
    "\n",
    "            df = df.groupby(by=[\"model\", \"perturbation-param\"]).std()\n",
    "            return df.transpose()\n",
    "\n",
    "        else:\n",
    "            raise NotImplementedError\n",
    "    else:\n",
    "        # remove all perturbed results\n",
    "        df = df[df[\"perturbation\"].isnull()]\n",
    "        df = df.drop(columns=[\"perturbation\", \"perturbation-param\"])\n",
    "        if different_arch:\n",
    "            # keep just rows if my gan and other gan ends with j for j in {1,..,5} or other is \"real\"\n",
    "            df = df[(df.other.str[-1]==df.my.str[-1]) | df.other.str.endswith(\"real\")]\n",
    "        else:\n",
    "            # keep just rows if other ends with a different number than my and other is not real\n",
    "            df = df[(df.other.str[-1] != df.my.str[-1]) & -(df.other.str.endswith(\"real\")) ]\n",
    "            \n",
    "        df = df.drop(columns=[\"my\"])\n",
    "        df = df.groupby(by=\"model\").std()\n",
    "    return df.transpose()\n",
    "    \n",
    "def std_results(data, fnr=0.005, different_arch=True):\n",
    "    df = prepare_results_std(data, different_arch)\n",
    "    models = MODELS[data]\n",
    "    attrs = ATTRS[data]\n",
    "    results_df = pd.DataFrame(columns=models, index=attrs)\n",
    "    for attr in attrs:\n",
    "        for model in models:\n",
    "            try:\n",
    "                results_df[model][attr] = df[f\"{model}_{attr}\"][f\"fnr={fnr}\"]\n",
    "            except:\n",
    "                print(f\"No result found for model={model} and attr method {attr}.\")\n",
    "                results_df[model][attr] = 0\n",
    "\n",
    "    results_df = 100 * results_df\n",
    "    results_df = results_df.astype(float).round(2)\n",
    "    return results_df"
   ]
  },
  {
   "cell_type": "code",
   "execution_count": null,
   "metadata": {},
   "outputs": [],
   "source": [
    "stds_celeba = std_results(\"celeba\")\n",
    "stds_lsun = std_results(\"lsun\")\n",
    "stds = pd.concat([stds_celeba, stds_lsun], axis=1)\n",
    "stds"
   ]
  },
  {
   "cell_type": "markdown",
   "metadata": {},
   "source": [
    "# Table 10 Stds small generative models - same architecture"
   ]
  },
  {
   "cell_type": "code",
   "execution_count": null,
   "metadata": {},
   "outputs": [],
   "source": [
    "stds_celeba = std_results(\"celeba\", different_arch=False)\n",
    "stds_lsun = std_results(\"lsun\", different_arch=False)\n",
    "stds = pd.concat([stds_celeba, stds_lsun], axis=1)\n",
    "stds"
   ]
  },
  {
   "cell_type": "markdown",
   "metadata": {},
   "source": [
    "# Table 12: Standard Deviations Stable Diffusion / StyleGAN / MediGAN "
   ]
  },
  {
   "cell_type": "code",
   "execution_count": null,
   "metadata": {},
   "outputs": [],
   "source": [
    "# Stds Stable Diffusion\n",
    "results_detailed(\"coco\", metric=\"std\")*1000"
   ]
  },
  {
   "cell_type": "code",
   "execution_count": null,
   "metadata": {},
   "outputs": [],
   "source": [
    "# 2. Stds StyleGAN\n",
    "results_detailed(\"ffhq\", metric=\"std\")*1000"
   ]
  },
  {
   "cell_type": "code",
   "execution_count": null,
   "metadata": {},
   "outputs": [],
   "source": [
    "# 3. Stds MediGAN\n",
    "results_detailed(\"bcdr\", metric=\"std\")*100"
   ]
  },
  {
   "cell_type": "markdown",
   "metadata": {},
   "source": [
    "# Table 13: Whitewine results"
   ]
  },
  {
   "cell_type": "code",
   "execution_count": null,
   "metadata": {},
   "outputs": [],
   "source": [
    "results_detailed(\"whitewine\")"
   ]
  },
  {
   "cell_type": "markdown",
   "metadata": {},
   "source": [
    "# Table 14: Wine Standard deviations"
   ]
  },
  {
   "cell_type": "code",
   "execution_count": null,
   "metadata": {},
   "outputs": [],
   "source": [
    "# red wine \n",
    "std_red = results_detailed(\"redwine\", metric=\"std\") * 1000\n",
    "std_red "
   ]
  },
  {
   "cell_type": "code",
   "execution_count": null,
   "metadata": {},
   "outputs": [],
   "source": [
    "std_white = results_detailed(\"whitewine\", metric=\"std\") * 1000\n",
    "std_white "
   ]
  }
 ],
 "metadata": {
  "kernelspec": {
   "display_name": "Python 3 (ipykernel)",
   "language": "python",
   "name": "python3"
  },
  "language_info": {
   "codemirror_mode": {
    "name": "ipython",
    "version": 3
   },
   "file_extension": ".py",
   "mimetype": "text/x-python",
   "name": "python",
   "nbconvert_exporter": "python",
   "pygments_lexer": "ipython3",
   "version": "3.9.18"
  }
 },
 "nbformat": 4,
 "nbformat_minor": 4
}
